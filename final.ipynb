{
  "nbformat": 4,
  "nbformat_minor": 0,
  "metadata": {
    "colab": {
      "provenance": [],
      "mount_file_id": "1_ZObx__HzJq1fex00aZPqCU2btVfyRVO",
      "authorship_tag": "ABX9TyNODc0tpj/TbHHk8ko+PI0O",
      "include_colab_link": true
    },
    "kernelspec": {
      "name": "python3",
      "display_name": "Python 3"
    },
    "language_info": {
      "name": "python"
    }
  },
  "cells": [
    {
      "cell_type": "markdown",
      "metadata": {
        "id": "view-in-github",
        "colab_type": "text"
      },
      "source": [
        "<a href=\"https://colab.research.google.com/github/l0rdyolo/AI/blob/main/final.ipynb\" target=\"_parent\"><img src=\"https://colab.research.google.com/assets/colab-badge.svg\" alt=\"Open In Colab\"/></a>"
      ]
    },
    {
      "cell_type": "code",
      "execution_count": null,
      "metadata": {
        "id": "nJgurAOVaZOE"
      },
      "outputs": [],
      "source": [
        "#read data\n",
        "#plot data"
      ]
    },
    {
      "cell_type": "code",
      "source": [
        "#### read data\n"
      ],
      "metadata": {
        "id": "c4J-uyGzazPk"
      },
      "execution_count": null,
      "outputs": []
    }
  ]
}