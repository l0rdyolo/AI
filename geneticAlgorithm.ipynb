{
  "nbformat": 4,
  "nbformat_minor": 0,
  "metadata": {
    "colab": {
      "provenance": [],
      "toc_visible": true,
      "authorship_tag": "ABX9TyMRvJBafEzIqrwvr+bkV6h2",
      "include_colab_link": true
    },
    "kernelspec": {
      "name": "python3",
      "display_name": "Python 3"
    },
    "language_info": {
      "name": "python"
    }
  },
  "cells": [
    {
      "cell_type": "markdown",
      "metadata": {
        "id": "view-in-github",
        "colab_type": "text"
      },
      "source": [
        "<a href=\"https://colab.research.google.com/github/l0rdyolo/AI/blob/main/geneticAlgorithm.ipynb\" target=\"_parent\"><img src=\"https://colab.research.google.com/assets/colab-badge.svg\" alt=\"Open In Colab\"/></a>"
      ]
    },
    {
      "cell_type": "code",
      "source": [
        "import random"
      ],
      "metadata": {
        "id": "oPq-AASHOaiH"
      },
      "execution_count": 22,
      "outputs": []
    },
    {
      "cell_type": "code",
      "source": [
        "GOAL_VALUE = 30;\n",
        "\n",
        "POPULATION_SIZE = 10\n",
        "\n",
        "CHROMOSOME_SIZE = 4"
      ],
      "metadata": {
        "id": "2-HzenjPNMoQ"
      },
      "execution_count": 62,
      "outputs": []
    },
    {
      "cell_type": "code",
      "source": [
        "def createNewPopulation(size):\n",
        "  POPULATION = []\n",
        "  for i in range(size):\n",
        "    chromosome = []\n",
        "    for j in range(CHROMOSOME_SIZE):\n",
        "      gen = random.randint(0,GOAL_VALUE)\n",
        "      chromosome.append(gen)\n",
        "    POPULATION.append(chromosome)\n",
        "  return POPULATION"
      ],
      "metadata": {
        "id": "TtexMc1sNq29"
      },
      "execution_count": 63,
      "outputs": []
    },
    {
      "cell_type": "code",
      "execution_count": 72,
      "metadata": {
        "id": "C2EjpfFhJSay"
      },
      "outputs": [],
      "source": [
        "# chromosome[0] - a , chromosome[1] - b ....\n",
        "def mainFunc(chromosome):\n",
        "  return (chromosome[0]) + (2 * chromosome[1]) + (3 * chromosome[2] ) + (4 *  chromosome[3])"
      ]
    },
    {
      "cell_type": "code",
      "source": [
        "def goalFunc(mainFunc_result):\n",
        "  return abs(mainFunc_result - GOAL_VALUE)"
      ],
      "metadata": {
        "id": "YCAPZGKcM5SA"
      },
      "execution_count": 73,
      "outputs": []
    },
    {
      "cell_type": "code",
      "source": [
        "def fitness(goalFunc_result):\n",
        "  return 1 / (goalFunc_result + 1)"
      ],
      "metadata": {
        "id": "-cb0nJRJWCIU"
      },
      "execution_count": 76,
      "outputs": []
    },
    {
      "cell_type": "code",
      "source": [
        "POPULATION = createNewPopulation(POPULATION_SIZE)"
      ],
      "metadata": {
        "id": "yh_ElhnFNy0C"
      },
      "execution_count": 64,
      "outputs": []
    },
    {
      "cell_type": "code",
      "source": [
        "POPULATION"
      ],
      "metadata": {
        "colab": {
          "base_uri": "https://localhost:8080/"
        },
        "id": "uyug4kfaP-Kv",
        "outputId": "8cba7235-bfbd-4a63-b741-c82ee02fb6a3"
      },
      "execution_count": 65,
      "outputs": [
        {
          "output_type": "execute_result",
          "data": {
            "text/plain": [
              "[[6, 3, 20, 12],\n",
              " [25, 23, 27, 13],\n",
              " [2, 5, 9, 22],\n",
              " [10, 26, 10, 26],\n",
              " [6, 15, 0, 24],\n",
              " [30, 8, 11, 16],\n",
              " [2, 8, 10, 20],\n",
              " [22, 10, 11, 21],\n",
              " [19, 27, 21, 1],\n",
              " [15, 16, 25, 17]]"
            ]
          },
          "metadata": {},
          "execution_count": 65
        }
      ]
    },
    {
      "cell_type": "code",
      "source": [
        "goalFunc_output = []\n",
        "for i in range(len(POPULATION)):\n",
        "  m_result = mainFunc(POPULATION[i])\n",
        "  g_result = goalFunc(m_result)\n",
        "  goalFunc_output.append(g_result)"
      ],
      "metadata": {
        "id": "_6EiSuIuRvNX"
      },
      "execution_count": 74,
      "outputs": []
    },
    {
      "cell_type": "code",
      "source": [
        "goalFunc_output"
      ],
      "metadata": {
        "colab": {
          "base_uri": "https://localhost:8080/"
        },
        "id": "fIfmN_DtVnY2",
        "outputId": "520b50f0-cefb-4bd9-a36b-45d370708d55"
      },
      "execution_count": 75,
      "outputs": [
        {
          "output_type": "execute_result",
          "data": {
            "text/plain": [
              "[90, 174, 97, 166, 102, 113, 98, 129, 110, 160]"
            ]
          },
          "metadata": {},
          "execution_count": 75
        }
      ]
    },
    {
      "cell_type": "code",
      "source": [
        "fitness_output = []\n",
        "for i in range(len(POPULATION)):\n",
        "  f_result = fitness(goalFunc_output[i])\n",
        "  fitness_output.append(f_result)"
      ],
      "metadata": {
        "id": "e2UPSc4_WLuj"
      },
      "execution_count": 77,
      "outputs": []
    },
    {
      "cell_type": "code",
      "source": [
        "fitness_output"
      ],
      "metadata": {
        "colab": {
          "base_uri": "https://localhost:8080/"
        },
        "id": "jGEA8cG_WOc3",
        "outputId": "878862c8-ae90-4833-b07b-2dd5b4c12639"
      },
      "execution_count": 78,
      "outputs": [
        {
          "output_type": "execute_result",
          "data": {
            "text/plain": [
              "[0.01098901098901099,\n",
              " 0.005714285714285714,\n",
              " 0.01020408163265306,\n",
              " 0.005988023952095809,\n",
              " 0.009708737864077669,\n",
              " 0.008771929824561403,\n",
              " 0.010101010101010102,\n",
              " 0.007692307692307693,\n",
              " 0.009009009009009009,\n",
              " 0.006211180124223602]"
            ]
          },
          "metadata": {},
          "execution_count": 78
        }
      ]
    },
    {
      "cell_type": "code",
      "source": [
        "fitness_total = sum(fitness_output)"
      ],
      "metadata": {
        "id": "XNC_qWU6zoAp"
      },
      "execution_count": 79,
      "outputs": []
    },
    {
      "cell_type": "code",
      "source": [
        "selection_probability = []\n",
        "for i in range(len(POPULATION)):\n",
        "  selection_probability.append(fitness_output[i] / fitness_total)"
      ],
      "metadata": {
        "id": "s3UeHSzq0B7_"
      },
      "execution_count": 81,
      "outputs": []
    },
    {
      "cell_type": "code",
      "source": [
        "selection_probability"
      ],
      "metadata": {
        "colab": {
          "base_uri": "https://localhost:8080/"
        },
        "id": "HoU2_Bhv0Xll",
        "outputId": "34626267-1512-4c18-bcdf-1f79267fcd79"
      },
      "execution_count": 82,
      "outputs": [
        {
          "output_type": "execute_result",
          "data": {
            "text/plain": [
              "[0.13021763341237616,\n",
              " 0.0677131693744356,\n",
              " 0.1209163738829207,\n",
              " 0.07095691401512713,\n",
              " 0.11504664699540028,\n",
              " 0.10394565474145814,\n",
              " 0.11969499636895183,\n",
              " 0.0911523433886633,\n",
              " 0.10675499676149756,\n",
              " 0.07360127105916912]"
            ]
          },
          "metadata": {},
          "execution_count": 82
        }
      ]
    },
    {
      "cell_type": "code",
      "source": [
        "cumulative_probability = []\n",
        "cumulative_sum = 0\n",
        "for probability in selection_probability:\n",
        "    cumulative_sum += probability\n",
        "    cumulative_probability.append(cumulative_sum)"
      ],
      "metadata": {
        "id": "d69bov9-1s0P"
      },
      "execution_count": 83,
      "outputs": []
    },
    {
      "cell_type": "code",
      "source": [
        "cumulative_probability"
      ],
      "metadata": {
        "colab": {
          "base_uri": "https://localhost:8080/"
        },
        "id": "n3uOZ75I1u5y",
        "outputId": "f963e12f-7f92-4414-8987-06dc04b018ef"
      },
      "execution_count": 84,
      "outputs": [
        {
          "output_type": "execute_result",
          "data": {
            "text/plain": [
              "[0.13021763341237616,\n",
              " 0.19793080278681174,\n",
              " 0.31884717666973245,\n",
              " 0.38980409068485955,\n",
              " 0.5048507376802598,\n",
              " 0.6087963924217179,\n",
              " 0.7284913887906698,\n",
              " 0.8196437321793331,\n",
              " 0.9263987289408306,\n",
              " 0.9999999999999998]"
            ]
          },
          "metadata": {},
          "execution_count": 84
        }
      ]
    },
    {
      "cell_type": "code",
      "source": [
        "mating_pool = []\n",
        "for _ in range(POPULATION_SIZE):\n",
        "    random_number = random.random()\n",
        "    for i in range(len(cumulative_probability)):\n",
        "        if random_number <= cumulative_probability[i]:\n",
        "            mating_pool.append(POPULATION[i])\n",
        "            break"
      ],
      "metadata": {
        "id": "T-pOUwcF15So"
      },
      "execution_count": 86,
      "outputs": []
    },
    {
      "cell_type": "code",
      "source": [
        "mating_pool"
      ],
      "metadata": {
        "colab": {
          "base_uri": "https://localhost:8080/"
        },
        "id": "l4GZko5B1-r1",
        "outputId": "a93d26f6-2b72-4ad7-81e3-9d38282c3dec"
      },
      "execution_count": 87,
      "outputs": [
        {
          "output_type": "execute_result",
          "data": {
            "text/plain": [
              "[[2, 8, 10, 20],\n",
              " [6, 3, 20, 12],\n",
              " [22, 10, 11, 21],\n",
              " [10, 26, 10, 26],\n",
              " [22, 10, 11, 21],\n",
              " [10, 26, 10, 26],\n",
              " [19, 27, 21, 1],\n",
              " [30, 8, 11, 16],\n",
              " [30, 8, 11, 16],\n",
              " [10, 26, 10, 26]]"
            ]
          },
          "metadata": {},
          "execution_count": 87
        }
      ]
    },
    {
      "cell_type": "code",
      "source": [
        "def crossover(parent1, parent2):\n",
        "    crossover_point = random.randint(1, CHROMOSOME_SIZE - 1)\n",
        "\n",
        "    offspring1 = parent1[:crossover_point] + parent2[crossover_point:]\n",
        "    offspring2 = parent2[:crossover_point] + parent1[crossover_point:]\n",
        "\n",
        "    return offspring1, offspring2"
      ],
      "metadata": {
        "id": "c14vFtr82snH"
      },
      "execution_count": 88,
      "outputs": []
    },
    {
      "cell_type": "code",
      "source": [
        "new_population = []\n",
        "\n",
        "for i in range(0, POPULATION_SIZE, 2):\n",
        "    parent1 = mating_pool[i]\n",
        "    parent2 = mating_pool[i + 1] if (i + 1) < POPULATION_SIZE else mating_pool[0]  # Handle odd-size population\n",
        "\n",
        "    offspring1, offspring2 = crossover(parent1, parent2)\n",
        "\n",
        "    new_population.append(offspring1)\n",
        "    new_population.append(offspring2)"
      ],
      "metadata": {
        "id": "3XROnCqD21EY"
      },
      "execution_count": 89,
      "outputs": []
    },
    {
      "cell_type": "code",
      "source": [
        "new_population"
      ],
      "metadata": {
        "colab": {
          "base_uri": "https://localhost:8080/"
        },
        "id": "vSF_IWPc24dO",
        "outputId": "8122dcc9-000e-4634-8e21-1e02442d44c9"
      },
      "execution_count": 90,
      "outputs": [
        {
          "output_type": "execute_result",
          "data": {
            "text/plain": [
              "[[2, 8, 20, 12],\n",
              " [6, 3, 10, 20],\n",
              " [22, 10, 10, 26],\n",
              " [10, 26, 11, 21],\n",
              " [22, 10, 10, 26],\n",
              " [10, 26, 11, 21],\n",
              " [19, 8, 11, 16],\n",
              " [30, 27, 21, 1],\n",
              " [30, 26, 10, 26],\n",
              " [10, 8, 11, 16]]"
            ]
          },
          "metadata": {},
          "execution_count": 90
        }
      ]
    }
  ]
}