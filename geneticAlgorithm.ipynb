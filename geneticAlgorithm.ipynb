{
  "nbformat": 4,
  "nbformat_minor": 0,
  "metadata": {
    "colab": {
      "provenance": [],
      "toc_visible": true,
      "authorship_tag": "ABX9TyOqojm/HY7koyXpahVjGl7O",
      "include_colab_link": true
    },
    "kernelspec": {
      "name": "python3",
      "display_name": "Python 3"
    },
    "language_info": {
      "name": "python"
    }
  },
  "cells": [
    {
      "cell_type": "markdown",
      "metadata": {
        "id": "view-in-github",
        "colab_type": "text"
      },
      "source": [
        "<a href=\"https://colab.research.google.com/github/l0rdyolo/AI/blob/main/geneticAlgorithm.ipynb\" target=\"_parent\"><img src=\"https://colab.research.google.com/assets/colab-badge.svg\" alt=\"Open In Colab\"/></a>"
      ]
    },
    {
      "cell_type": "code",
      "source": [
        "import random"
      ],
      "metadata": {
        "id": "oPq-AASHOaiH"
      },
      "execution_count": 22,
      "outputs": []
    },
    {
      "cell_type": "code",
      "source": [
        "GOAL_VALUE = 30;\n",
        "\n",
        "POPULATION_SIZE = 10\n",
        "\n",
        "CHROMOSOME_SIZE = 4"
      ],
      "metadata": {
        "id": "2-HzenjPNMoQ"
      },
      "execution_count": 62,
      "outputs": []
    },
    {
      "cell_type": "code",
      "source": [
        "def createNewPopulation(size):\n",
        "  POPULATION = []\n",
        "  for i in range(size):\n",
        "    chromosome = []\n",
        "    for j in range(CHROMOSOME_SIZE):\n",
        "      gen = random.randint(0,GOAL_VALUE)\n",
        "      chromosome.append(gen)\n",
        "    POPULATION.append(chromosome)\n",
        "  return POPULATION"
      ],
      "metadata": {
        "id": "TtexMc1sNq29"
      },
      "execution_count": 63,
      "outputs": []
    },
    {
      "cell_type": "code",
      "execution_count": 25,
      "metadata": {
        "id": "C2EjpfFhJSay"
      },
      "outputs": [],
      "source": [
        "def goalFunc(a,b,c,d):\n",
        "  return (a) + (2 * b) + (3 * c) + (4 * d)"
      ]
    },
    {
      "cell_type": "code",
      "source": [
        "def fitness(isGoalReaced):\n",
        "  return abs(isGoalReaced - GOAL_VALUE)"
      ],
      "metadata": {
        "id": "YCAPZGKcM5SA"
      },
      "execution_count": 26,
      "outputs": []
    },
    {
      "cell_type": "code",
      "source": [
        "POPULATION = createNewPopulation(POPULATION_SIZE)"
      ],
      "metadata": {
        "id": "yh_ElhnFNy0C"
      },
      "execution_count": 64,
      "outputs": []
    },
    {
      "cell_type": "code",
      "source": [
        "POPULATION"
      ],
      "metadata": {
        "colab": {
          "base_uri": "https://localhost:8080/"
        },
        "id": "uyug4kfaP-Kv",
        "outputId": "8cba7235-bfbd-4a63-b741-c82ee02fb6a3"
      },
      "execution_count": 65,
      "outputs": [
        {
          "output_type": "execute_result",
          "data": {
            "text/plain": [
              "[[6, 3, 20, 12],\n",
              " [25, 23, 27, 13],\n",
              " [2, 5, 9, 22],\n",
              " [10, 26, 10, 26],\n",
              " [6, 15, 0, 24],\n",
              " [30, 8, 11, 16],\n",
              " [2, 8, 10, 20],\n",
              " [22, 10, 11, 21],\n",
              " [19, 27, 21, 1],\n",
              " [15, 16, 25, 17]]"
            ]
          },
          "metadata": {},
          "execution_count": 65
        }
      ]
    }
  ]
}