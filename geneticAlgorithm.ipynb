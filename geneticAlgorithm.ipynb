{
  "nbformat": 4,
  "nbformat_minor": 0,
  "metadata": {
    "colab": {
      "provenance": [],
      "toc_visible": true,
      "authorship_tag": "ABX9TyMpKf5DlL0rdiefUWd+K16Z",
      "include_colab_link": true
    },
    "kernelspec": {
      "name": "python3",
      "display_name": "Python 3"
    },
    "language_info": {
      "name": "python"
    }
  },
  "cells": [
    {
      "cell_type": "markdown",
      "metadata": {
        "id": "view-in-github",
        "colab_type": "text"
      },
      "source": [
        "<a href=\"https://colab.research.google.com/github/l0rdyolo/AI/blob/main/geneticAlgorithm.ipynb\" target=\"_parent\"><img src=\"https://colab.research.google.com/assets/colab-badge.svg\" alt=\"Open In Colab\"/></a>"
      ]
    },
    {
      "cell_type": "code",
      "source": [
        "import random"
      ],
      "metadata": {
        "id": "oPq-AASHOaiH"
      },
      "execution_count": 22,
      "outputs": []
    },
    {
      "cell_type": "code",
      "source": [
        "GOAL_VALUE = 30;\n",
        "\n",
        "POPULATION_SIZE = 10\n",
        "\n",
        "CHROMOSOME_SIZE = 4"
      ],
      "metadata": {
        "id": "2-HzenjPNMoQ"
      },
      "execution_count": 62,
      "outputs": []
    },
    {
      "cell_type": "markdown",
      "source": [
        "# Functions\n"
      ],
      "metadata": {
        "id": "wyODKjP-7n8C"
      }
    },
    {
      "cell_type": "code",
      "source": [
        "def createNewPopulation(size):\n",
        "  POPULATION = []\n",
        "  for i in range(size):\n",
        "    chromosome = []\n",
        "    for j in range(CHROMOSOME_SIZE):\n",
        "      gen = random.randint(0,GOAL_VALUE)\n",
        "      chromosome.append(gen)\n",
        "    POPULATION.append(chromosome)\n",
        "  return POPULATION"
      ],
      "metadata": {
        "id": "TtexMc1sNq29"
      },
      "execution_count": 63,
      "outputs": []
    },
    {
      "cell_type": "code",
      "execution_count": 72,
      "metadata": {
        "id": "C2EjpfFhJSay"
      },
      "outputs": [],
      "source": [
        "# chromosome[0] - a , chromosome[1] - b ....\n",
        "def mainFunc(chromosome):\n",
        "  return (chromosome[0]) + (2 * chromosome[1]) + (3 * chromosome[2] ) + (4 *  chromosome[3])"
      ]
    },
    {
      "cell_type": "code",
      "source": [
        "def goalFunc(mainFunc_result):\n",
        "  return abs(mainFunc_result - GOAL_VALUE)"
      ],
      "metadata": {
        "id": "YCAPZGKcM5SA"
      },
      "execution_count": 73,
      "outputs": []
    },
    {
      "cell_type": "code",
      "source": [
        "def fitness(goalFunc_result):\n",
        "  return 1 / (goalFunc_result + 1)"
      ],
      "metadata": {
        "id": "-cb0nJRJWCIU"
      },
      "execution_count": 76,
      "outputs": []
    },
    {
      "cell_type": "code",
      "source": [
        "def crossover(parent1, parent2):\n",
        "    crossover_point = random.randint(1, CHROMOSOME_SIZE - 1)\n",
        "\n",
        "    offspring1 = parent1[:crossover_point] + parent2[crossover_point:]\n",
        "    offspring2 = parent2[:crossover_point] + parent1[crossover_point:]\n",
        "\n",
        "    return offspring1, offspring2"
      ],
      "metadata": {
        "id": "c14vFtr82snH"
      },
      "execution_count": 88,
      "outputs": []
    },
    {
      "cell_type": "code",
      "source": [
        "def mutate(chromosome, mutation_rate=0.05):\n",
        "    for i in range(len(chromosome)):\n",
        "        if random.random() < mutation_rate:\n",
        "            chromosome[i] = random.randint(0, GOAL_VALUE)\n",
        "    return chromosome"
      ],
      "metadata": {
        "id": "e9udzpdZ3UMB"
      },
      "execution_count": 91,
      "outputs": []
    },
    {
      "cell_type": "code",
      "source": [
        "def calculate_fitness(population):\n",
        "    fitness_output = []\n",
        "    for chromosome in population:\n",
        "        main_result = mainFunc(chromosome)\n",
        "        goal_result = goalFunc(main_result)\n",
        "        fitness_result = fitness(goal_result)\n",
        "        fitness_output.append(fitness_result)\n",
        "    return fitness_output"
      ],
      "metadata": {
        "id": "VUrKE4GN8Tne"
      },
      "execution_count": 99,
      "outputs": []
    },
    {
      "cell_type": "code",
      "source": [
        "def calculate_selection_probability(fitness_output):\n",
        "    fitness_total = sum(fitness_output)\n",
        "    selection_probability = [f / fitness_total for f in fitness_output]\n",
        "    return selection_probability"
      ],
      "metadata": {
        "id": "uU5oQ81P8XAF"
      },
      "execution_count": 100,
      "outputs": []
    },
    {
      "cell_type": "code",
      "source": [
        "def select_mating_pool(population, selection_probability):\n",
        "    cumulative_probability = []\n",
        "    cumulative_sum = 0\n",
        "    for probability in selection_probability:\n",
        "        cumulative_sum += probability\n",
        "        cumulative_probability.append(cumulative_sum)\n",
        "\n",
        "    mating_pool = []\n",
        "    for _ in range(POPULATION_SIZE):\n",
        "        random_number = random.random()\n",
        "        for i in range(len(cumulative_probability)):\n",
        "            if random_number <= cumulative_probability[i]:\n",
        "                mating_pool.append(population[i])\n",
        "                break\n",
        "    return mating_pool"
      ],
      "metadata": {
        "id": "bhIx8dW_8ZoZ"
      },
      "execution_count": 101,
      "outputs": []
    },
    {
      "cell_type": "markdown",
      "source": [
        "# Genetic Algorithm\n"
      ],
      "metadata": {
        "id": "d8Tue4-U7j0E"
      }
    },
    {
      "cell_type": "code",
      "source": [
        "def genetic_algorithm():\n",
        "    population = createNewPopulation(POPULATION_SIZE)\n",
        "    solutions = [];\n",
        "\n",
        "    for generation in range(1000):\n",
        "        fitness_output = calculate_fitness(population)\n",
        "        selection_probability = calculate_selection_probability(fitness_output)\n",
        "        mating_pool = select_mating_pool(population, selection_probability)\n",
        "\n",
        "        new_population = []\n",
        "        for i in range(0, POPULATION_SIZE, 2):\n",
        "            parent1 = mating_pool[i]\n",
        "            parent2 = mating_pool[i + 1] if (i + 1) < POPULATION_SIZE else mating_pool[0]\n",
        "            offspring1, offspring2 = crossover(parent1, parent2)\n",
        "            new_population.append(mutate(offspring1))\n",
        "            new_population.append(mutate(offspring2))\n",
        "\n",
        "        population = new_population\n",
        "\n",
        "\n",
        "        for individual in population:\n",
        "            if mainFunc(individual) == GOAL_VALUE:\n",
        "              if individual not in solutions:\n",
        "                    solutions.append(individual)\n",
        "\n",
        "    return solutions"
      ],
      "metadata": {
        "id": "ksfPkAE04eHh"
      },
      "execution_count": 123,
      "outputs": []
    },
    {
      "cell_type": "code",
      "source": [
        "print(genetic_algorithm())"
      ],
      "metadata": {
        "colab": {
          "base_uri": "https://localhost:8080/"
        },
        "id": "-hYmhjRH4x3_",
        "outputId": "156c67c2-cd8d-4141-ebd7-c142c85be2d3"
      },
      "execution_count": 127,
      "outputs": [
        {
          "output_type": "stream",
          "name": "stdout",
          "text": [
            "[[2, 1, 2, 5]]\n"
          ]
        }
      ]
    }
  ]
}